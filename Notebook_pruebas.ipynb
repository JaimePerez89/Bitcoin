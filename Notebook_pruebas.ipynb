{
 "cells": [
  {
   "cell_type": "code",
   "execution_count": 43,
   "metadata": {},
   "outputs": [],
   "source": [
    "import pandas as pd\n",
    "import json\n",
    "\n",
    "block_data = {}\n",
    "\n",
    "with open('data/blocks.json', 'r') as f:\n",
    "    for line in f:\n",
    "        df_line = json.loads(line)\n",
    "        #df = pd.DataFrame.from_dict(df_line, orient='index')\n",
    "        block_data[df_line['hash']] = [df_line['size'], df_line['tx'], df_line['time'], df_line['nTx'], df_line['previousblockhash']]\n",
    "            \n",
    "\n"
   ]
  },
  {
   "cell_type": "code",
   "execution_count": 44,
   "metadata": {},
   "outputs": [
    {
     "name": "stdout",
     "output_type": "stream",
     "text": [
      "1904\n"
     ]
    }
   ],
   "source": [
    "x = block_data['0000000000000000000d0f284942569f3353ca03736e377e45bd9eb906458ba2']\n",
    "print(x[3])"
   ]
  },
  {
   "cell_type": "code",
   "execution_count": 63,
   "metadata": {},
   "outputs": [],
   "source": [
    "# Creamos un diccionario vacío que almacenará la información deseada del input\n",
    "txs_data = {}\n",
    "\n",
    "# Dado que la ubicación del archivo será fija, podemos pasar directamente el path a la función\n",
    "with open('data/txs.json', 'r') as f:\n",
    "    for line in f:\n",
    "        df_line = json.loads(line)\n",
    "        # Inicializo una lista vacia donde guardaremos todos los values del campo vout\n",
    "        values = []\n",
    "        for i in df_line['vout']:\n",
    "            values.append(i['value'])   \n",
    "        txs_data[df_line['txid']] = [df_line['blockhash'], values, df_line['time']]"
   ]
  },
  {
   "cell_type": "code",
   "execution_count": 57,
   "metadata": {},
   "outputs": [],
   "source": [
    "# Creamos un diccionario vacío que almacenará la información deseada del input\n",
    "txs_data = {}\n",
    "counter = 0\n",
    "\n",
    "# Dado que la ubicación del archivo será fija, podemos pasar directamente el path a la función\n",
    "with open('data/txs.json', 'r') as f:\n",
    "    for line in f:\n",
    "        df_line = json.loads(line)\n",
    "        counter += 1\n",
    "        values = []\n",
    "        for i in df_line['vout']:\n",
    "            values.append(i['value'])\n",
    "        txs_data[df_line['txid']] = [df_line['blockhash'], values, df_line['time']]\n",
    "        if counter == 20:\n",
    "            break"
   ]
  },
  {
   "cell_type": "code",
   "execution_count": 60,
   "metadata": {},
   "outputs": [
    {
     "name": "stdout",
     "output_type": "stream",
     "text": [
      "{'059c99edf8ed1b3301cf0c24e2a291017071d635eb9fa20819cfa880345bf929': ['00000000000000000009230cc1477844f7b0b6055add91dfc8b3cafe47a856ef', [7.46675786, 0.0, 0.0], 1591021468], 'cbffdaba9ceaa9e34bc415f68f77d072dedbe7eecee52caf13d8f3e0293b5934': ['00000000000000000009230cc1477844f7b0b6055add91dfc8b3cafe47a856ef', [0.2358026, 0.02], 1591021468], '9a8c010365cf7dfbd8807a85a8c0009d1866897f14480d9d01f4ae2ccac83464': ['00000000000000000009230cc1477844f7b0b6055add91dfc8b3cafe47a856ef', [0.00277968], 1591021468], 'de037e4389e29f0f4f84df3507918c79e85b6441e7f10a2f274da0bba90707fc': ['00000000000000000009230cc1477844f7b0b6055add91dfc8b3cafe47a856ef', [0.0035], 1591021468], '01173f28632a0c21f3aca0b2263702fbbf6b7efa9f831a37ada3effaeba361dc': ['00000000000000000009230cc1477844f7b0b6055add91dfc8b3cafe47a856ef', [0.03003196, 0.02297424], 1591021468], 'a23e51899b8621eb9813d2a8f940b02fac61b3e9422f3d60863549d5754c8cc3': ['00000000000000000009230cc1477844f7b0b6055add91dfc8b3cafe47a856ef', [0.1, 4.72165349], 1591021468], '8b77e99bc5fd3006124d71781a22da132f4d237b2eff7926819b67f878fafb23': ['00000000000000000009230cc1477844f7b0b6055add91dfc8b3cafe47a856ef', [0.29, 8.79122738], 1591021468], 'df2a69c756956931c584acfdb60870c46da7827ff696bb7c59d76c82f1b41a0f': ['00000000000000000009230cc1477844f7b0b6055add91dfc8b3cafe47a856ef', [0.08, 0.031746], 1591021468], '7b9e6cd2c9614e81177bf8b7f4e954c928c9e8eea3e70aac78e9b0638690324d': ['00000000000000000009230cc1477844f7b0b6055add91dfc8b3cafe47a856ef', [0.00525003, 0.02466454], 1591021468], '3860e42d8bcfe4d4d943c4db590364de3e5d86af56962f91c30c1d79ad585242': ['00000000000000000009230cc1477844f7b0b6055add91dfc8b3cafe47a856ef', [0.00969301, 0.00930357], 1591021468], 'a632ee9456072a6b97a272d77dcab35cffc33d54499b2932feaf97935e0c0c9f': ['00000000000000000009230cc1477844f7b0b6055add91dfc8b3cafe47a856ef', [0.09905965], 1591021468], '3c4a5a17a788de27e0c7e370175b28b4c0b5dd8e8aaeb0850a51cab48fc88b6e': ['00000000000000000009230cc1477844f7b0b6055add91dfc8b3cafe47a856ef', [0.01300186, 3.97008124], 1591021468], '5aef142f9edcda14437b9c87c0f6afa542770c7a0e4f078975166382fa322bd1': ['00000000000000000009230cc1477844f7b0b6055add91dfc8b3cafe47a856ef', [0.6772883, 0.1], 1591021468], '090486f986f2032e2baebe737e86c59d141c858db3673b1fd5daa24b380e82d4': ['00000000000000000009230cc1477844f7b0b6055add91dfc8b3cafe47a856ef', [0.04922841, 3.34104549], 1591021468], '6c57d80adc1a36136c3cbaba067616371d8ff1bbeb7142f04f542434d0a72511': ['00000000000000000009230cc1477844f7b0b6055add91dfc8b3cafe47a856ef', [0.065, 0.39706821], 1591021468], '2cac07f63e5c0d80d2af0a59c497f348580f86f5420ff0009e314990160a0a67': ['00000000000000000009230cc1477844f7b0b6055add91dfc8b3cafe47a856ef', [2.5855774, 0.0674], 1591021468], 'bd791536b797e9c775098be2231e148748e8d42a15637fa4bcdc032f8a8d07a1': ['00000000000000000009230cc1477844f7b0b6055add91dfc8b3cafe47a856ef', [0.02, 3.8533816], 1591021468], 'f918e654a8af078d3b9fab959e6736e2d8bc52feee216226e5e4ff3c00f78c88': ['00000000000000000009230cc1477844f7b0b6055add91dfc8b3cafe47a856ef', [0.04903855], 1591021468], '3502905eab7d08a985947542b28fe19174d7e4f5143ab5f5dbef96f5a234a476': ['00000000000000000009230cc1477844f7b0b6055add91dfc8b3cafe47a856ef', [0.02220145, 0.01186302], 1591021468], '3ab31a5dabae7ff06ebfa8f27d477369aa0aa9d3b7ce2d5f15f820d81f7c1378': ['00000000000000000009230cc1477844f7b0b6055add91dfc8b3cafe47a856ef', [0.00623625, 0.35445464], 1591021468]}\n"
     ]
    }
   ],
   "source": [
    "print(txs_data)"
   ]
  },
  {
   "cell_type": "code",
   "execution_count": 67,
   "metadata": {},
   "outputs": [
    {
     "name": "stdout",
     "output_type": "stream",
     "text": [
      "059c99edf8ed1b3301cf0c24e2a291017071d635eb9fa20819cfa880345bf929\n",
      "cbffdaba9ceaa9e34bc415f68f77d072dedbe7eecee52caf13d8f3e0293b5934\n",
      "9a8c010365cf7dfbd8807a85a8c0009d1866897f14480d9d01f4ae2ccac83464\n",
      "de037e4389e29f0f4f84df3507918c79e85b6441e7f10a2f274da0bba90707fc\n",
      "01173f28632a0c21f3aca0b2263702fbbf6b7efa9f831a37ada3effaeba361dc\n",
      "a23e51899b8621eb9813d2a8f940b02fac61b3e9422f3d60863549d5754c8cc3\n",
      "8b77e99bc5fd3006124d71781a22da132f4d237b2eff7926819b67f878fafb23\n",
      "df2a69c756956931c584acfdb60870c46da7827ff696bb7c59d76c82f1b41a0f\n",
      "7b9e6cd2c9614e81177bf8b7f4e954c928c9e8eea3e70aac78e9b0638690324d\n",
      "3860e42d8bcfe4d4d943c4db590364de3e5d86af56962f91c30c1d79ad585242\n",
      "a632ee9456072a6b97a272d77dcab35cffc33d54499b2932feaf97935e0c0c9f\n",
      "3c4a5a17a788de27e0c7e370175b28b4c0b5dd8e8aaeb0850a51cab48fc88b6e\n",
      "5aef142f9edcda14437b9c87c0f6afa542770c7a0e4f078975166382fa322bd1\n",
      "090486f986f2032e2baebe737e86c59d141c858db3673b1fd5daa24b380e82d4\n",
      "6c57d80adc1a36136c3cbaba067616371d8ff1bbeb7142f04f542434d0a72511\n",
      "2cac07f63e5c0d80d2af0a59c497f348580f86f5420ff0009e314990160a0a67\n",
      "bd791536b797e9c775098be2231e148748e8d42a15637fa4bcdc032f8a8d07a1\n",
      "f918e654a8af078d3b9fab959e6736e2d8bc52feee216226e5e4ff3c00f78c88\n",
      "3502905eab7d08a985947542b28fe19174d7e4f5143ab5f5dbef96f5a234a476\n",
      "3ab31a5dabae7ff06ebfa8f27d477369aa0aa9d3b7ce2d5f15f820d81f7c1378\n",
      "930593fe61dbb55a8303fac2d9e6c2da637b5f03b86aedc40ae08ed08f2a3e93\n",
      "558ab71468f238594da24a55bc79663a218d67d90d1470fca9135a151f3e8840\n",
      "a51156e8cac8869de3b5ba614a9475b4fc1b26ec8bf273433f5f715a886e8542\n",
      "c05c746d57f29a8a867eadcb9f0b74f408cdc2fd1ecd200b241bd15b36504b12\n",
      "bc69b7dd90eb2ab40d8bcf3bd543a79e027cbc7ec6574b48a94e051838067e5c\n",
      "6a20f0a4b18a149e14f5aa91f4cacc80bb227e12ed27a27d96091be0224ec4dd\n",
      "02d4302489c8b6878e7032df175c9fdad0ebd2bad77e435e863a0499992aeb77\n",
      "b05f24934b548749f307115ac6a8bc3f4478f16a531dfdb884d260b6579735be\n",
      "d2e9cc194437aadfa86b0ee808e93119101cec74fa9b848118336d98155556d5\n",
      "c9a64453d69ec0344396ee34f55b25a6e21b9f0eb1673999f709d83e290aadd4\n",
      "e75fcac201cbb1d7b5df8eb1ad0995d4551a5a6812cc945ffa3fbfc82a097e09\n",
      "ad34514a67f15bba3716a744da2839de58303c7f101725f23c4e665c167bbca2\n",
      "55bb735a6fd8cb889bf53dce40a7542561887e34b8345efd14add82046d7a23b\n",
      "9882dde286d4cf0b00a59a57731a371631d7197451ddc7a8913ead2801437df9\n",
      "986285a6362d9a2651ef1979a36e2fb2306b4457742aa49d38d4ca513adadfdf\n",
      "8c2205f24507e59c276d6d89aa5fa9e3bd8acac0b7e3032356acf351d453a387\n",
      "38553c9c4cc8e90f585d4b2536d92d408022f8495788da231b41ffcb76317f7d\n",
      "5fbbb7d9f72e67069ab82536222959ffe5719b7b392a750dd6356f8f0ab42228\n",
      "77e47776e4f2b662ef7e59c6893098ff6b2a777e332a372763916eb1d0495b38\n",
      "9e15b3ee0fadecd950c2996abb9c3f7726629c40b9699632f0c3b0cb28a992e9\n"
     ]
    }
   ],
   "source": [
    "counter = 0\n",
    "for key in txs_data:\n",
    "    counter += 1\n",
    "    print(key)\n",
    "    if counter == 40:\n",
    "        break"
   ]
  }
 ],
 "metadata": {
  "kernelspec": {
   "display_name": "Python 3",
   "language": "python",
   "name": "python3"
  },
  "language_info": {
   "codemirror_mode": {
    "name": "ipython",
    "version": 3
   },
   "file_extension": ".py",
   "mimetype": "text/x-python",
   "name": "python",
   "nbconvert_exporter": "python",
   "pygments_lexer": "ipython3",
   "version": "3.7.7"
  }
 },
 "nbformat": 4,
 "nbformat_minor": 4
}
